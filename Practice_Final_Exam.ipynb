{
  "cells": [
    {
      "cell_type": "markdown",
      "metadata": {
        "id": "view-in-github",
        "colab_type": "text"
      },
      "source": [
        "<a href=\"https://colab.research.google.com/github/SarangWanodei20/learn_python/blob/master/Practice_Final_Exam.ipynb\" target=\"_parent\"><img src=\"https://colab.research.google.com/assets/colab-badge.svg\" alt=\"Open In Colab\"/></a>"
      ]
    },
    {
      "cell_type": "markdown",
      "source": [
        "TASK 6: Sales Trend Analysis Using Aggregations"
      ],
      "metadata": {
        "id": "G5twXC9HXoXK"
      }
    },
    {
      "cell_type": "markdown",
      "source": [
        "Step-by-Step SQL Solution\n",
        "\n",
        "1.Monthly Revenue & Order Volume\n"
      ],
      "metadata": {
        "id": "pOcIEJKPt3dA"
      }
    },
    {
      "cell_type": "code",
      "source": [
        "SELECT\n",
        "    EXTRACT(YEAR FROM order_date) AS order_year,\n",
        "    EXTRACT(MONTH FROM order_date) AS order_month,\n",
        "    SUM(amount) AS monthly_revenue,\n",
        "    COUNT(DISTINCT order_id) AS total_orders\n",
        "FROM\n",
        "    online_sales\n",
        "GROUP BY\n",
        "    EXTRACT(YEAR FROM order_date),\n",
        "    EXTRACT(MONTH FROM order_date)\n",
        "ORDER BY\n",
        "    order_year, order_month;\n"
      ],
      "metadata": {
        "id": "h0aKFEHouFGL",
        "outputId": "3cc47168-345e-477a-e747-df332a40acc9",
        "colab": {
          "base_uri": "https://localhost:8080/",
          "height": 106
        }
      },
      "execution_count": 15,
      "outputs": [
        {
          "output_type": "error",
          "ename": "IndentationError",
          "evalue": "unexpected indent (<ipython-input-15-a3acf1f9a534>, line 2)",
          "traceback": [
            "\u001b[0;36m  File \u001b[0;32m\"<ipython-input-15-a3acf1f9a534>\"\u001b[0;36m, line \u001b[0;32m2\u001b[0m\n\u001b[0;31m    EXTRACT(YEAR FROM order_date) AS order_year,\u001b[0m\n\u001b[0m    ^\u001b[0m\n\u001b[0;31mIndentationError\u001b[0m\u001b[0;31m:\u001b[0m unexpected indent\n"
          ]
        }
      ]
    },
    {
      "cell_type": "markdown",
      "source": [
        "The above query shows revenue and order volume for each month sorted by year/month."
      ],
      "metadata": {
        "id": "IuwRn11TuK3P"
      }
    },
    {
      "cell_type": "markdown",
      "source": [
        "2. Limit to a Specific Time Range (e.g., 2023)"
      ],
      "metadata": {
        "id": "V3UtMt9quWl8"
      }
    },
    {
      "cell_type": "code",
      "source": [
        "SELECT\n",
        "    EXTRACT(MONTH FROM order_date) AS order_month,\n",
        "    SUM(amount) AS monthly_revenue,\n",
        "    COUNT(DISTINCT order_id) AS total_orders\n",
        "FROM\n",
        "    online_sales\n",
        "WHERE\n",
        "    EXTRACT(YEAR FROM order_date) = 2023\n",
        "GROUP BY\n",
        "    EXTRACT(MONTH FROM order_date)\n",
        "ORDER BY\n",
        "    order_month;\n"
      ],
      "metadata": {
        "id": "xbY6CnAWubVz"
      },
      "execution_count": null,
      "outputs": []
    },
    {
      "cell_type": "markdown",
      "source": [
        "How do you group data by month and year in SQL?\n",
        "\n",
        "By using EXTRACT(YEAR FROM date_col) and EXTRACT(MONTH FROM date_col) in PostgreSQL, or YEAR(date_col) and MONTH(date_col) in MySQL.\n"
      ],
      "metadata": {
        "id": "4VxeuD2rueTE"
      }
    },
    {
      "cell_type": "markdown",
      "source": [
        "What’s the difference between COUNT(*) and COUNT(DISTINCT col)?\n",
        "\n",
        "COUNT(*): Counts all rows.\n",
        "\n",
        "COUNT(DISTINCT col): Counts unique values in a column."
      ],
      "metadata": {
        "id": "Xtkgvd-auowJ"
      }
    },
    {
      "cell_type": "markdown",
      "source": [
        "How do you calculate monthly revenue?\n",
        "\n",
        "By using SUM(amount) after grouping data by month and year."
      ],
      "metadata": {
        "id": "W2dS9wnDuu1Y"
      }
    },
    {
      "cell_type": "markdown",
      "source": [
        " What are aggregate functions in SQL?\n",
        "\n",
        "Functions like SUM(), AVG(), MAX(), MIN(), and COUNT() that return a single value from a group of rows."
      ],
      "metadata": {
        "id": "z6OuXb4Ku0GT"
      }
    },
    {
      "cell_type": "markdown",
      "source": [
        "How to handle NULLs in aggregates?\n",
        "\n",
        "Aggregates like SUM() and COUNT(col) ignore NULLs.\n",
        "\n",
        "Use COALESCE() to replace NULLs: SUM(COALESCE(amount, 0)).\n",
        "\n"
      ],
      "metadata": {
        "id": "snbVQEpou5a7"
      }
    },
    {
      "cell_type": "markdown",
      "source": [
        "What’s the role of ORDER BY and GROUP BY?\n",
        "\n",
        "GROUP BY: Groups rows to apply aggregation.\n",
        "\n",
        "ORDER BY: Sorts the result set.\n",
        "\n"
      ],
      "metadata": {
        "id": "Y-s0UaUtu_LY"
      }
    },
    {
      "cell_type": "markdown",
      "source": [
        "How do you get the top 3 months by sales?\n",
        "\n",
        "Groups the data by month,\n",
        "\n",
        "Sums the sales amount to get total revenue per month,\n",
        "\n",
        "Sorts the results by revenue in descending order, and\n",
        "\n",
        "Limits the output to the top 3 rows."
      ],
      "metadata": {
        "id": "W-a1ojMxviVb"
      }
    },
    {
      "cell_type": "code",
      "source": [
        "SELECT\n",
        "    TO_CHAR(order_date, 'YYYY-MM') AS month,\n",
        "    SUM(amount) AS total_revenue\n",
        "FROM\n",
        "    online_sales\n",
        "GROUP BY\n",
        "    TO_CHAR(order_date, 'YYYY-MM')\n",
        "ORDER BY\n",
        "    total_revenue DESC\n",
        "LIMIT 3;\n"
      ],
      "metadata": {
        "id": "qwtWZuP8vrYm"
      },
      "execution_count": null,
      "outputs": []
    }
  ],
  "metadata": {
    "kernelspec": {
      "display_name": "Python 3",
      "language": "python",
      "name": "python3"
    },
    "language_info": {
      "codemirror_mode": {
        "name": "ipython",
        "version": 3
      },
      "file_extension": ".py",
      "mimetype": "text/x-python",
      "name": "python",
      "nbconvert_exporter": "python",
      "pygments_lexer": "ipython3",
      "version": "3.7.4"
    },
    "colab": {
      "provenance": [],
      "include_colab_link": true
    }
  },
  "nbformat": 4,
  "nbformat_minor": 0
}