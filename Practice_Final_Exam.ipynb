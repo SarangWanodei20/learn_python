{
  "cells": [
    {
      "cell_type": "markdown",
      "metadata": {
        "id": "view-in-github",
        "colab_type": "text"
      },
      "source": [
        "<a href=\"https://colab.research.google.com/github/SarangWanodei20/learn_python/blob/master/Practice_Final_Exam.ipynb\" target=\"_parent\"><img src=\"https://colab.research.google.com/assets/colab-badge.svg\" alt=\"Open In Colab\"/></a>"
      ]
    },
    {
      "cell_type": "markdown",
      "source": [
        "TASK 7: Get Basic Sales Summary from a Tiny SQLite Database using Python"
      ],
      "metadata": {
        "id": "3N19CHgGMqMA"
      }
    },
    {
      "cell_type": "markdown",
      "source": [
        "Create the Database (if not already created)"
      ],
      "metadata": {
        "id": "2UBhW_GJMgCD"
      }
    },
    {
      "cell_type": "code",
      "source": [
        "import sqlite3\n",
        "\n",
        "# Connect to SQLite database (creates file if not exists)\n",
        "conn = sqlite3.connect(\"sales_data.db\")\n",
        "cursor = conn.cursor()\n",
        "\n",
        "# Create a simple sales table\n",
        "cursor.execute('''\n",
        "CREATE TABLE IF NOT EXISTS sales (\n",
        "    id INTEGER PRIMARY KEY AUTOINCREMENT,\n",
        "    product TEXT NOT NULL,\n",
        "    quantity INTEGER NOT NULL,\n",
        "    price REAL NOT NULL\n",
        ")\n",
        "''')\n",
        "\n",
        "# Insert some sample sales data\n",
        "sample_data = [\n",
        "    ('Apple', 10, 0.5),\n",
        "    ('Banana', 5, 0.2),\n",
        "    ('Orange', 8, 0.4),\n",
        "    ('Apple', 6, 0.5),\n",
        "    ('Banana', 7, 0.2),\n",
        "    ('Orange', 3, 0.4),\n",
        "]\n",
        "\n",
        "cursor.executemany(\"INSERT INTO sales (product, quantity, price) VALUES (?, ?, ?)\", sample_data)\n",
        "conn.commit()\n"
      ],
      "metadata": {
        "id": "YC1NVLpLMhjX"
      },
      "execution_count": null,
      "outputs": []
    },
    {
      "cell_type": "markdown",
      "source": [
        "Run SQL Query and Load into Pandas"
      ],
      "metadata": {
        "id": "hYlh-JeRMutr"
      }
    },
    {
      "cell_type": "code",
      "source": [
        "import pandas as pd\n",
        "\n",
        "# Query to summarize sales\n",
        "query = \"\"\"\n",
        "SELECT\n",
        "    product,\n",
        "    SUM(quantity) AS total_qty,\n",
        "    SUM(quantity * price) AS revenue\n",
        "FROM sales\n",
        "GROUP BY product\n",
        "\"\"\"\n",
        "\n",
        "# Load query results into a DataFrame\n",
        "df = pd.read_sql_query(query, conn)\n",
        "\n",
        "# Close the connection\n",
        "conn.close()\n",
        "\n",
        "# Print the DataFrame\n",
        "print(df)\n"
      ],
      "metadata": {
        "id": "Vgk34XuoMysn"
      },
      "execution_count": null,
      "outputs": []
    },
    {
      "cell_type": "markdown",
      "source": [
        "Plot a Simple Bar Chart"
      ],
      "metadata": {
        "id": "MEJ53SSeM1u6"
      }
    },
    {
      "cell_type": "code",
      "source": [
        "import matplotlib.pyplot as plt\n",
        "\n",
        "# Bar chart for revenue by product\n",
        "df.plot(kind='bar', x='product', y='revenue', legend=False)\n",
        "plt.title('Revenue by Product')\n",
        "plt.ylabel('Revenue ($)')\n",
        "plt.xlabel('Product')\n",
        "plt.tight_layout()\n",
        "plt.show()\n",
        "\n",
        "# Save the chart (optional)\n",
        "# plt.savefig(\"sales_chart.png\")\n"
      ],
      "metadata": {
        "id": "a_FZ1HpvM9GG"
      },
      "execution_count": null,
      "outputs": []
    }
  ],
  "metadata": {
    "kernelspec": {
      "display_name": "Python 3",
      "language": "python",
      "name": "python3"
    },
    "language_info": {
      "codemirror_mode": {
        "name": "ipython",
        "version": 3
      },
      "file_extension": ".py",
      "mimetype": "text/x-python",
      "name": "python",
      "nbconvert_exporter": "python",
      "pygments_lexer": "ipython3",
      "version": "3.7.4"
    },
    "colab": {
      "provenance": [],
      "include_colab_link": true
    }
  },
  "nbformat": 4,
  "nbformat_minor": 0
}