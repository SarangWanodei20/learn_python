{
  "cells": [
    {
      "cell_type": "markdown",
      "source": [
        "Monthly Revenue & Order Volume"
      ],
      "metadata": {
        "id": "a1uGYKGlfHk0"
      }
    },
    {
      "cell_type": "code",
      "source": [
        "SELECT\n",
        "    EXTRACT(YEAR FROM order_date) AS order_year,\n",
        "    EXTRACT(MONTH FROM order_date) AS order_month,\n",
        "    SUM(amount) AS monthly_revenue,\n",
        "    COUNT(DISTINCT order_id) AS total_orders\n",
        "FROM\n",
        "    online_sales\n",
        "GROUP BY\n",
        "    EXTRACT(YEAR FROM order_date),\n",
        "    EXTRACT(MONTH FROM order_date)\n",
        "ORDER BY\n",
        "    order_year, order_month;\n"
      ],
      "metadata": {
        "id": "Em0P7qDmfHQO",
        "outputId": "c39f0b52-8062-4790-a54d-79163d4b71ac",
        "colab": {
          "base_uri": "https://localhost:8080/",
          "height": 106
        }
      },
      "execution_count": 1,
      "outputs": [
        {
          "output_type": "error",
          "ename": "IndentationError",
          "evalue": "unexpected indent (<ipython-input-1-a3acf1f9a534>, line 2)",
          "traceback": [
            "\u001b[0;36m  File \u001b[0;32m\"<ipython-input-1-a3acf1f9a534>\"\u001b[0;36m, line \u001b[0;32m2\u001b[0m\n\u001b[0;31m    EXTRACT(YEAR FROM order_date) AS order_year,\u001b[0m\n\u001b[0m    ^\u001b[0m\n\u001b[0;31mIndentationError\u001b[0m\u001b[0;31m:\u001b[0m unexpected indent\n"
          ]
        }
      ]
    },
    {
      "cell_type": "markdown",
      "source": [
        "Limit to a Specific Time Range (e.g., 2023)"
      ],
      "metadata": {
        "id": "BpdUyNdbfPB9"
      }
    },
    {
      "cell_type": "code",
      "source": [
        "SELECT\n",
        "    EXTRACT(MONTH FROM order_date) AS order_month,\n",
        "    SUM(amount) AS monthly_revenue,\n",
        "    COUNT(DISTINCT order_id) AS total_orders\n",
        "FROM\n",
        "    online_sales\n",
        "WHERE\n",
        "    EXTRACT(YEAR FROM order_date) = 2023\n",
        "GROUP BY\n",
        "    EXTRACT(MONTH FROM order_date)\n",
        "ORDER BY\n",
        "    order_month;\n"
      ],
      "metadata": {
        "id": "Qvybuqy1fU1O"
      },
      "execution_count": null,
      "outputs": []
    },
    {
      "cell_type": "markdown",
      "source": [
        "Top 3 Months by Revenue"
      ],
      "metadata": {
        "id": "faLxZT0xfbNX"
      }
    },
    {
      "cell_type": "code",
      "source": [
        "SELECT\n",
        "    TO_CHAR(order_date, 'YYYY-MM') AS month,\n",
        "    SUM(amount) AS total_revenue\n",
        "FROM\n",
        "    online_sales\n",
        "GROUP BY\n",
        "    TO_CHAR(order_date, 'YYYY-MM')\n",
        "ORDER BY\n",
        "    total_revenue DESC\n",
        "LIMIT 3;\n"
      ],
      "metadata": {
        "id": "gOROtMJIffwx"
      },
      "execution_count": null,
      "outputs": []
    },
    {
      "cell_type": "markdown",
      "source": [
        "Interview Questions & Answers"
      ],
      "metadata": {
        "id": "JMTHTJZLfrf9"
      }
    },
    {
      "cell_type": "markdown",
      "source": [
        "How do you group data by month and year in SQL?\n",
        "\n",
        "By using EXTRACT(YEAR FROM date_col) and EXTRACT(MONTH FROM date_col) in PostgreSQL, or YEAR(date_col) and MONTH(date_col) in MySQL."
      ],
      "metadata": {
        "id": "7SdZxFxTfs5X"
      }
    },
    {
      "cell_type": "markdown",
      "source": [
        "What’s the difference between COUNT(*) and COUNT(DISTINCT col)?\n",
        "\n",
        "COUNT(*): Counts all rows.\n",
        "\n",
        "COUNT(DISTINCT col): Counts unique values in a column.\n",
        "\n"
      ],
      "metadata": {
        "id": "c9pQ_l6EfwQ7"
      }
    },
    {
      "cell_type": "markdown",
      "source": [
        " How do you calculate monthly revenue?\n",
        "\n",
        "By using SUM(amount) after grouping data by month and year."
      ],
      "metadata": {
        "id": "7BUcuPcTf1BM"
      }
    },
    {
      "cell_type": "markdown",
      "source": [
        "What are aggregate functions in SQL?\n",
        "\n",
        "Functions like SUM(), AVG(), MAX(), MIN(), and COUNT() that return a single value from a group of rows."
      ],
      "metadata": {
        "id": "JLDLa7jIf5QC"
      }
    },
    {
      "cell_type": "markdown",
      "source": [
        "How to handle NULLs in aggregates?\n",
        "\n",
        "Aggregates like SUM() and COUNT(col) ignore NULLs.\n",
        "\n",
        "Use COALESCE() to replace NULLs: SUM(COALESCE(amount, 0)).\n",
        "\n"
      ],
      "metadata": {
        "id": "MW_7Cuwmf81E"
      }
    },
    {
      "cell_type": "markdown",
      "source": [
        "What’s the role of ORDER BY and GROUP BY?\n",
        "\n",
        "GROUP BY: Groups rows to apply aggregation.\n",
        "\n",
        "ORDER BY: Sorts the result set."
      ],
      "metadata": {
        "id": "_ZhWE1SSgAa2"
      }
    },
    {
      "cell_type": "markdown",
      "source": [
        "How do you get the top 3 months by sales?\n",
        "\n",
        "Group by month, use SUM(amount) to get total revenue, then ORDER BY total_revenue DESC LIMIT 3."
      ],
      "metadata": {
        "id": "53fHsjBUgETF"
      }
    }
  ],
  "metadata": {
    "kernelspec": {
      "display_name": "Python 3",
      "language": "python",
      "name": "python3"
    },
    "language_info": {
      "codemirror_mode": {
        "name": "ipython",
        "version": 3
      },
      "file_extension": ".py",
      "mimetype": "text/x-python",
      "name": "python",
      "nbconvert_exporter": "python",
      "pygments_lexer": "ipython3",
      "version": "3.7.4"
    },
    "colab": {
      "provenance": []
    }
  },
  "nbformat": 4,
  "nbformat_minor": 0
}